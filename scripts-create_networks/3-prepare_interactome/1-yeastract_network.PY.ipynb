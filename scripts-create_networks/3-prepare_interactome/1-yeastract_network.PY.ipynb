{
 "cells": [
  {
   "cell_type": "markdown",
   "metadata": {},
   "source": [
    "# 3.1. Prepare YEASTRACT protein-DNA interaction network\n",
    "\n",
    "Generate network file of protein-dna interactions with the locus names of genes.\n",
    "\n",
    "Finally, the duplicated interaction entries and the self-loops were removed.\n",
    "\n",
    "## Input\n",
    "\n",
    "* `data-create_networks/yeastract_TF/RegulationTwoColumnTable_Documented_DNA_binding_and_expression_evidence_2019-08-14.tsv`: protein-dna interactions of transcription factors from YEASTRACT database.\n",
    "\n",
    "## Output\n",
    "\n",
    "* `data-create_networks/yeastract_TF/protein_DNA_interactions.tsv`: cleaned protein-dna interactions of transcription factors from YEASTRACT database with locus names."
   ]
  },
  {
   "cell_type": "code",
   "execution_count": 1,
   "metadata": {},
   "outputs": [],
   "source": [
    "import pandas as pd"
   ]
  },
  {
   "cell_type": "code",
   "execution_count": 2,
   "metadata": {},
   "outputs": [],
   "source": [
    "yeastract_file = '../../data-create_networks/yeastract_TF/yeastract2019-flat-file.tsv'\n",
    "pdiTable_file = '../../data-create_networks/yeastract_TF/protein_DNA_interactions.tsv'"
   ]
  },
  {
   "cell_type": "markdown",
   "metadata": {},
   "source": [
    "## Prepare PDI table from YEASTRACT bulk flat file"
   ]
  },
  {
   "cell_type": "code",
   "execution_count": 3,
   "metadata": {},
   "outputs": [
    {
     "name": "stdout",
     "output_type": "stream",
     "text": [
      "transcription factors: 152\n",
      "target genes: 3915\n",
      "combined: 3940\n",
      "raw interaction entries: 42492\n"
     ]
    }
   ],
   "source": [
    "# get all interactions\n",
    "yeastract = pd.read_csv(yeastract_file, sep='\\t', header=None).rename({0:'source', 2:'target'}, axis=1)\n",
    "\n",
    "# filter out the interactions which are not \"direct\" and without gene expression effect\n",
    "x = yeastract[ yeastract[8] == 'Direct' ][ ['source', 'target'] ]\n",
    "y = yeastract[ ~yeastract[7].isna() ][ ['source', 'target'] ]\n",
    "\n",
    "# build the PDI table\n",
    "confirmed_interactions = pd.merge( x, y, on=['source', 'target'], how='inner' )\n",
    "\n",
    "# get proteins involved in the regulatory network\n",
    "tfs = confirmed_interactions['source'].unique()\n",
    "targets = confirmed_interactions['target'].unique()\n",
    "yeastract_proteins = pd.Series( list( set(tfs) | set(targets) ) )\n",
    "\n",
    "print(\"transcription factors:\", len(tfs))\n",
    "print(\"target genes:\", len(targets))\n",
    "print(\"combined:\", len(yeastract_proteins))\n",
    "print(\"raw interaction entries:\", len(confirmed_interactions))"
   ]
  },
  {
   "cell_type": "markdown",
   "metadata": {},
   "source": [
    "## Clean PDI table"
   ]
  },
  {
   "cell_type": "code",
   "execution_count": 4,
   "metadata": {},
   "outputs": [
    {
     "name": "stdout",
     "output_type": "stream",
     "text": [
      "duplicated interaction entries: 30990\n",
      "self loops: 43\n",
      "number of protein-DNA interactions: 11459\n"
     ]
    }
   ],
   "source": [
    "# remove duplicated interactions\n",
    "pdi = confirmed_interactions.drop_duplicates()\n",
    "print( 'duplicated interaction entries:', len(confirmed_interactions[confirmed_interactions.duplicated()]) )\n",
    "\n",
    "# remove self-loops\n",
    "print( 'self loops:', len(pdi[pdi.iloc[:,0] == pdi.iloc[:,1]]) )\n",
    "pdi = pdi[pdi.iloc[:,0] != pdi.iloc[:,1]]\n",
    "\n",
    "print('number of protein-DNA interactions:', len(pdi))"
   ]
  },
  {
   "cell_type": "markdown",
   "metadata": {},
   "source": [
    "## Export"
   ]
  },
  {
   "cell_type": "code",
   "execution_count": 5,
   "metadata": {},
   "outputs": [],
   "source": [
    "pdi.to_csv( pdiTable_file, sep='\\t', index=None )"
   ]
  }
 ],
 "metadata": {
  "kernelspec": {
   "display_name": "Python [conda env:timenexus_env]",
   "language": "python",
   "name": "conda-env-timenexus_env-py"
  },
  "language_info": {
   "codemirror_mode": {
    "name": "ipython",
    "version": 3
   },
   "file_extension": ".py",
   "mimetype": "text/x-python",
   "name": "python",
   "nbconvert_exporter": "python",
   "pygments_lexer": "ipython3",
   "version": "3.8.5"
  }
 },
 "nbformat": 4,
 "nbformat_minor": 4
}
