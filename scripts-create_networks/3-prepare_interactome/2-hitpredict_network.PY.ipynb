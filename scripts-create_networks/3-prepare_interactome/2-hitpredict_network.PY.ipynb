{
 "cells": [
  {
   "cell_type": "markdown",
   "metadata": {},
   "source": [
    "# 3.2. Prepare HitPredict protein-protein interaction network\n",
    "\n",
    "Filter out interactions with low confidence score, convert protein IDs into gene locus names and remove self loops.\n",
    "\n",
    "Confidence score threshold was set at 0.281 as recommended by López et al. (2015) to get high-quality interactions.\n",
    "\n",
    "## Input\n",
    "* `data-create_networks/hitpredit-03Aug2020/S_cerevisiae_interactions_MITAB-2.5.txt`: HitPredict protein-protein interactions for yeast as psi-mi 2.5 tab file.\n",
    "* `data-create_networks/cross_ref-UniProt_SGD-17Jun2020/yeast.txt`: cross-references between UniProtKB and Saccharamyces Genome Database.\n",
    "\n",
    "## Output\n",
    "\n",
    "* `data-create_networks/hitpredit-03Aug2020/protein_protein_interactions.tsv`: cleaned HitPredict protein-protein interaction network.\n",
    "* `data-create_networks/cross_ref-UniProt_SGD-17Jun2020/table.txt`: parsed table for the cross-references between UniProtKB and Saccharamyces Genome Database."
   ]
  },
  {
   "cell_type": "code",
   "execution_count": 1,
   "metadata": {},
   "outputs": [],
   "source": [
    "import pandas as pd\n",
    "import matplotlib.pyplot as plt\n",
    "import seaborn as sns"
   ]
  },
  {
   "cell_type": "code",
   "execution_count": 2,
   "metadata": {},
   "outputs": [],
   "source": [
    "hitpredict_file = '../../data-create_networks/hitpredit-03Aug2020/S_cerevisiae_interactions_MITAB-2.5.txt'\n",
    "crossRef_file = '../../data-create_networks/cross_ref-UniProt_SGD-17Jun2020/yeast.txt'\n",
    "crossRefTable_file = '../../data-create_networks/cross_ref-UniProt_SGD-17Jun2020/table.txt'\n",
    "ppiTable_file = '../../data-create_networks/hitpredit-03Aug2020/protein_protein_interactions.tsv'"
   ]
  },
  {
   "cell_type": "markdown",
   "metadata": {},
   "source": [
    "## Import data"
   ]
  },
  {
   "cell_type": "code",
   "execution_count": 3,
   "metadata": {},
   "outputs": [],
   "source": [
    "hitpred = pd.read_csv( hitpredict_file, sep='\\t', header=None, skiprows=6 )[[ 0, 1, 14 ]].rename(\n",
    "    {0: 'source', 1: 'target', 14: 'score'}, axis=1)\n",
    "\n",
    "hitpred['source'] = hitpred['source'].str.replace('uniprotkb:', '')\n",
    "hitpred['target'] = hitpred['target'].str.replace('uniprotkb:', '')"
   ]
  },
  {
   "cell_type": "markdown",
   "metadata": {},
   "source": [
    "## Parse the table of SGD <> Swiss-Prot cross-references"
   ]
  },
  {
   "cell_type": "code",
   "execution_count": 3,
   "metadata": {},
   "outputs": [],
   "source": [
    "with open(crossRef_file) as f: lines = [ line.rstrip() for line in f ][57:]\n",
    "    \n",
    "# parse the table\n",
    "size_columns = [ len(c) for c in lines[0].split(' ') ]\n",
    "\n",
    "correspondance = []\n",
    "for line in lines[1:]:\n",
    "    gene, start, end = [], 0, 0\n",
    "    for c in range(len(size_columns)):\n",
    "        # split the line according to the size of the column\n",
    "        end = start+size_columns[c]\n",
    "        gene.append( line[ start:end ].strip() )\n",
    "        start = end+1\n",
    "    correspondance.append( gene )\n",
    "correspondance = pd.DataFrame(correspondance)\n",
    "\n",
    "# as there are several gene names for a given locus, give one leach for each gene\n",
    "df = list()\n",
    "for i, gene_names in enumerate( correspondance[0].str.split('; ') ):\n",
    "    row = correspondance.iloc[ i, : ]\n",
    "    for n in gene_names: df.append( [ n ] + row.values[1:].tolist() )\n",
    "df = pd.DataFrame(df, columns = ['gene name', 'locus name', 'Swiss-Prot AC', 'Swiss-Prot ID', 'SGD AC', 1, 2, 3, 4])\n",
    "\n",
    "crossRef = df.iloc[ :-5, :5 ]"
   ]
  },
  {
   "cell_type": "markdown",
   "metadata": {},
   "source": [
    "## Filter out low confidence score interactions"
   ]
  },
  {
   "cell_type": "code",
   "execution_count": 5,
   "metadata": {},
   "outputs": [
    {
     "name": "stdout",
     "output_type": "stream",
     "text": [
      "number of raw interactions: 126718\n",
      "with score >= 0.281: 101078\n"
     ]
    },
    {
     "data": {
      "image/png": "[encoded data removed]",
      "text/plain": [
       "<Figure size 432x288 with 1 Axes>"
      ]
     },
     "metadata": {
      "needs_background": "light"
     },
     "output_type": "display_data"
    }
   ],
   "source": [
    "hitpred_filt = hitpred[ hitpred['score'] >= 0.281 ]\n",
    "\n",
    "print( 'number of raw interactions:', len(hitpred) )\n",
    "print( 'with score >= 0.281:', len(hitpred_filt) )\n",
    "\n",
    "g = sns.distplot( hitpred.loc[ :, 'score' ] )\n",
    "plt.xlim([0.1,1])\n",
    "plt.title( 'Density of interaction scores', y=1.01 )\n",
    "plt.show()"
   ]
  },
  {
   "cell_type": "markdown",
   "metadata": {},
   "source": [
    "## Convert UniProt IDs to locus names"
   ]
  },
  {
   "cell_type": "code",
   "execution_count": 6,
   "metadata": {},
   "outputs": [
    {
     "name": "stdout",
     "output_type": "stream",
     "text": [
      "proteins: 5543\n",
      "unknown protein names: 0\n",
      "duplicated protein IDs within the cross-ref file: 2051\n"
     ]
    }
   ],
   "source": [
    "# get protein names to convert\n",
    "proteins = pd.Series( list( set(hitpred_filt['source']) | set(hitpred_filt['target']) ) )\n",
    "proteinsToConvert = crossRef[ crossRef['Swiss-Prot AC'].isin( proteins ) ]\n",
    "\n",
    "print('proteins:', len(proteins))\n",
    "print('unknown protein names:', len( proteins[ ~ proteins.isin( crossRef['Swiss-Prot AC'] ) ] ))\n",
    "\n",
    "# get duplicated gene names and unknown gene names\n",
    "duplicated_proteinIDs = proteinsToConvert[ proteinsToConvert.duplicated('Swiss-Prot AC') ][ 'Swiss-Prot AC' ].unique()\n",
    "\n",
    "print('duplicated protein IDs within the cross-ref file:', len(duplicated_proteinIDs))\n",
    "\n",
    "# convert protein names to locus names\n",
    "conversionDict = { k: v for k, v in zip(\n",
    "    proteinsToConvert['Swiss-Prot AC'].to_list(),\n",
    "    proteinsToConvert['locus name'].to_list() ) } # most performant https://stackoverflow.com/a/33737067\n",
    "hitpred_conv = hitpred_filt.replace(conversionDict)"
   ]
  },
  {
   "cell_type": "markdown",
   "metadata": {},
   "source": [
    "## Clean interaction matrix"
   ]
  },
  {
   "cell_type": "code",
   "execution_count": 7,
   "metadata": {},
   "outputs": [
    {
     "name": "stdout",
     "output_type": "stream",
     "text": [
      "no duplicated entry: True\n",
      "number of self loops: 1885\n"
     ]
    }
   ],
   "source": [
    "# check there are no redundant entries\n",
    "x = hitpred_conv[['source', 'target']].copy()\n",
    "x.values.sort()\n",
    "print('no duplicated entry:', len( x.drop_duplicates() ) == len( hitpred_conv ))\n",
    "\n",
    "# remove self loops\n",
    "print( 'number of self loops:', len( hitpred_conv[ hitpred_conv['source'] == hitpred_conv['target'] ] ) )\n",
    "ppi = hitpred_conv[ hitpred_conv['source'] != hitpred_conv['target'] ]"
   ]
  },
  {
   "cell_type": "markdown",
   "metadata": {},
   "source": [
    "## Export"
   ]
  },
  {
   "cell_type": "code",
   "execution_count": 8,
   "metadata": {},
   "outputs": [
    {
     "name": "stdout",
     "output_type": "stream",
     "text": [
      "interactions: 99193\n",
      "proteins: 5532\n"
     ]
    }
   ],
   "source": [
    "print('interactions:', len(ppi))\n",
    "print('proteins:', len( set(ppi['source']) | set(ppi['target'])) )"
   ]
  },
  {
   "cell_type": "code",
   "execution_count": 9,
   "metadata": {},
   "outputs": [],
   "source": [
    "ppi.to_csv( ppiTable_file, sep='\\t', index=False )"
   ]
  },
  {
   "cell_type": "code",
   "execution_count": 11,
   "metadata": {},
   "outputs": [],
   "source": [
    "crossRef.to_csv( crossRefTable_file, sep='\\t', index=None )"
   ]
  }
 ],
 "metadata": {
  "kernelspec": {
   "display_name": "Python [conda env:timenexus_env]",
   "language": "python",
   "name": "conda-env-timenexus_env-py"
  },
  "language_info": {
   "codemirror_mode": {
    "name": "ipython",
    "version": 3
   },
   "file_extension": ".py",
   "mimetype": "text/x-python",
   "name": "python",
   "nbconvert_exporter": "python",
   "pygments_lexer": "ipython3",
   "version": "3.8.5"
  }
 },
 "nbformat": 4,
 "nbformat_minor": 4
}
