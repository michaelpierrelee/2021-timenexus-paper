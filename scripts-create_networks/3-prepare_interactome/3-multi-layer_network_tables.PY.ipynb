{
 "cells": [
  {
   "cell_type": "markdown",
   "metadata": {},
   "source": [
    "# 3.3 Generate tables for the multi-layer network\n",
    "\n",
    "We limited the multilayer network to the layers 1 to 9 (10-15vs0-5 to 90-95vs80-85), as there were no more query nodes within the next layers.\n",
    "\n",
    "First, the interactome was built such as:\n",
    "\n",
    "1. All interactions were set as undirected.\n",
    "2. A confidence score of 1 was assigned to the PDIs.\n",
    "3. Multi-edges were aggregated from the PPI table, such as the mean of PPI scores for a given node pair was calculated.\n",
    "4. The final score of an edge between a given node pair was calculated with the function: `(2 * P + D) / 4`, where P is the PPI score and D is the number of PDI edges between the node pair.\n",
    "\n",
    "Node weights were calculated such as:\n",
    "\n",
    "1. Node weights were computed with: `- log10(Padj) * |LFC|`. Nodes which were not present in the RNA-sequencing dataset were filtered out.\n",
    "2. Then, for each column, weights were normalized to a range between 0.001 and 1, as the null weight is not managed by AnatApp.\n",
    "\n",
    "A node was tagged as a query for a given layer if its gene was differentially expressed (adjusted p-value <= 0.05) at this layer. \n",
    "\n",
    "Inter-layer edge's weights were computed using `( wDys1 + wDys2 ) / ( 1 + wDys1 + wDys2 )`, where wDys1 and wDys2 are the weights of the node in the layer i and i+1, respectively.\n",
    "\n",
    "For all tables, the node ID of core cell-cycle proteins were replaced by their gene name to help to identify them.\n",
    "\n",
    "## Input\n",
    "\n",
    "* `data-create_networks/cell_cycle_genes/core_cell_cycle_proteins.tsv` core proteins involved in the yeast cell-cycle.\n",
    "* `data-create_networks/yeastract_TF/protein_DNA_interactions.tsv`: cleaned protein-dna interactions of transcription factors from YEASTRACT database with locus names.\n",
    "* `data-create_networks/hitpredit-03Aug2020/protein_protein_interactions.tsv`: cleaned HitPredict protein-protein interaction network.\n",
    "* Files within the folder `data-create_networks/yeast_Kelliher_2016/comparisons/`: results of the DEA for the 18 comparisons.\n",
    "\n",
    "## Output\n",
    "\n",
    "* `data-create_networks/yeast_multiLayerNetwork/nodeTable.tsv`: node table of the multi-layer network.\n",
    "* `data-create_networks/yeast_multiLayerNetwork/intraLayerEdgeTable.tsv`: intra-layer edge table of the multi-layer network.\n",
    "* `data-create_networks/yeast_multiLayerNetwork/interLayerEdgeTable.tsv`: inter-layer edge table of the multi-layer network."
   ]
  },
  {
   "cell_type": "code",
   "execution_count": 1,
   "metadata": {},
   "outputs": [],
   "source": [
    "import pandas as pd\n",
    "import numpy as np\n",
    "import glob"
   ]
  },
  {
   "cell_type": "code",
   "execution_count": 2,
   "metadata": {},
   "outputs": [],
   "source": [
    "coreGenes_file = '../../data-create_networks/cell_cycle_genes/core_cell_cycle_proteins.tsv'\n",
    "pdiTable_file = '../../data-create_networks/yeastract_TF/protein_DNA_interactions.tsv'\n",
    "ppiTable_file = '../../data-create_networks/hitpredit-03Aug2020/protein_protein_interactions.tsv'\n",
    "dea_folder = '../../data-create_networks/yeast_Kelliher_2016/comparisons/'\n",
    "nodeTable_file = '../../data-create_networks/yeast_multiLayerNetwork/nodeTable.tsv'\n",
    "intraTable_file = '../../data-create_networks/yeast_multiLayerNetwork/intraLayerEdgeTable.tsv'\n",
    "interTable_file = '../../data-create_networks/yeast_multiLayerNetwork/interLayerEdgeTable.tsv'\n",
    "\n",
    "fdrCutoff = 0.05"
   ]
  },
  {
   "cell_type": "markdown",
   "metadata": {},
   "source": [
    "## Import data"
   ]
  },
  {
   "cell_type": "code",
   "execution_count": 3,
   "metadata": {},
   "outputs": [],
   "source": [
    "ppi = pd.read_csv( ppiTable_file, sep='\\t' )\n",
    "pdi = pd.read_csv( pdiTable_file, sep='\\t' )"
   ]
  },
  {
   "cell_type": "markdown",
   "metadata": {},
   "source": [
    "## Build the interactome\n",
    "\n",
    "Merge PPI and PDI edges and compute their scores."
   ]
  },
  {
   "cell_type": "code",
   "execution_count": 4,
   "metadata": {},
   "outputs": [
    {
     "data": {
      "text/html": [
       "<div>\n",
       "<style scoped>\n",
       "    .dataframe tbody tr th:only-of-type {\n",
       "        vertical-align: middle;\n",
       "    }\n",
       "\n",
       "    .dataframe tbody tr th {\n",
       "        vertical-align: top;\n",
       "    }\n",
       "\n",
       "    .dataframe thead th {\n",
       "        text-align: right;\n",
       "    }\n",
       "</style>\n",
       "<table border=\"1\" class=\"dataframe\">\n",
       "  <thead>\n",
       "    <tr style=\"text-align: right;\">\n",
       "      <th>edge type</th>\n",
       "      <th>PDI</th>\n",
       "      <th>PPI</th>\n",
       "      <th>PPI+PDI</th>\n",
       "      <th>Total</th>\n",
       "    </tr>\n",
       "  </thead>\n",
       "  <tbody>\n",
       "    <tr>\n",
       "      <th>interactions</th>\n",
       "      <td>11291</td>\n",
       "      <td>99042</td>\n",
       "      <td>151</td>\n",
       "      <td>110484</td>\n",
       "    </tr>\n",
       "  </tbody>\n",
       "</table>\n",
       "</div>"
      ],
      "text/plain": [
       "edge type       PDI    PPI  PPI+PDI   Total\n",
       "interactions  11291  99042      151  110484"
      ]
     },
     "execution_count": 4,
     "metadata": {},
     "output_type": "execute_result"
    }
   ],
   "source": [
    "# sort sources and targets to compare both dataframes\n",
    "undiPPI = ppi.copy()\n",
    "undiPPI[['source','target']] = np.sort( undiPPI[['source','target']].values )\n",
    "undiPDI = pdi.copy()\n",
    "undiPDI[['source','target']] = np.sort( undiPDI[['source','target']].values )\n",
    "\n",
    "# give a score to the PDI equal to the number of PDIs\n",
    "undiPDI['score'] = 1.\n",
    "undiPDI = undiPDI.groupby(by=['source', 'target']).count().reset_index()\n",
    "\n",
    "# aggregate multi edges of PDI table and multiple by 2 (because 1 undirected edge = 2 directed edge)\n",
    "undiPPI = undiPPI.groupby(['source', 'target']).mean().reset_index()\n",
    "undiPPI['score'] = undiPPI['score'] * 2\n",
    "\n",
    "# merge dataframes\n",
    "interactome = pd.merge( undiPPI, undiPDI, on=['source', 'target'], how='outer',\n",
    "                        indicator=True, suffixes=['_ppi', '_pdi']\n",
    "                      ).rename({'_merge': 'edge type'}, axis=1\n",
    "                      ).replace({'left_only': 'PPI', 'right_only': 'PDI', 'both': 'PPI+PDI'})\n",
    "\n",
    "# compute final scores\n",
    "interactome['score'] = interactome[['score_ppi', 'score_pdi']].fillna(0).sum(axis=1) / 4\n",
    "interactome = interactome[['source', 'target', 'score', 'edge type']]\n",
    "\n",
    "\n",
    "x = interactome.groupby('edge type').count()[['source']].rename({'source': 'interactions'}, axis=1).T\n",
    "x['Total'] = x.sum(axis=1)\n",
    "x"
   ]
  },
  {
   "cell_type": "markdown",
   "metadata": {},
   "source": [
    "## Build the node table\n",
    "\n",
    "Compute node weights for each layer from the results of the differential expression analysis."
   ]
  },
  {
   "cell_type": "code",
   "execution_count": 5,
   "metadata": {},
   "outputs": [
    {
     "name": "stdout",
     "output_type": "stream",
     "text": [
      "interactome nodes: 5979\n",
      "genes from the RNA-seq: 6506\n",
      "genes with RNA-seq values and within the interactome: 5787\n",
      "edges filtered out: 1048\n"
     ]
    },
    {
     "data": {
      "text/html": [
       "<div>\n",
       "<style scoped>\n",
       "    .dataframe tbody tr th:only-of-type {\n",
       "        vertical-align: middle;\n",
       "    }\n",
       "\n",
       "    .dataframe tbody tr th {\n",
       "        vertical-align: top;\n",
       "    }\n",
       "\n",
       "    .dataframe thead th {\n",
       "        text-align: right;\n",
       "    }\n",
       "</style>\n",
       "<table border=\"1\" class=\"dataframe\">\n",
       "  <thead>\n",
       "    <tr style=\"text-align: right;\">\n",
       "      <th>edge type</th>\n",
       "      <th>PDI</th>\n",
       "      <th>PPI</th>\n",
       "      <th>PPI+PDI</th>\n",
       "      <th>Total</th>\n",
       "    </tr>\n",
       "  </thead>\n",
       "  <tbody>\n",
       "    <tr>\n",
       "      <th>interactions</th>\n",
       "      <td>10956</td>\n",
       "      <td>98329</td>\n",
       "      <td>151</td>\n",
       "      <td>109436</td>\n",
       "    </tr>\n",
       "  </tbody>\n",
       "</table>\n",
       "</div>"
      ],
      "text/plain": [
       "edge type       PDI    PPI  PPI+PDI   Total\n",
       "interactions  10956  98329      151  109436"
      ]
     },
     "execution_count": 5,
     "metadata": {},
     "output_type": "execute_result"
    }
   ],
   "source": [
    "nodes = set(interactome['source']) | set(interactome['target'])\n",
    "print('interactome nodes:', len(nodes))\n",
    "\n",
    "# get DEA results\n",
    "comparisons, names = [], []\n",
    "for file in sorted( glob.glob(dea_folder + '*') ):\n",
    "    data = pd.read_csv(file, sep='\\t', index_col=0)\n",
    "    name = file.split('/')[-1].split('.')[0].split('_')[-1]\n",
    "    comparisons.append( data[['logFC', 'FDR']] )\n",
    "    names.append( name )\n",
    "comparisons = pd.concat( comparisons, axis=1, keys=names, names=['comparison','value'] )\n",
    "\n",
    "print('genes from the RNA-seq:', len(comparisons))\n",
    "\n",
    "# remove layers\n",
    "comparisons = comparisons.iloc[ :, :(9*2) ]\n",
    "\n",
    "# keep the genes with RNA-seq values and which are within the interactome\n",
    "genesToKeep = set(comparisons.index) & nodes\n",
    "comparisons = comparisons.loc[ genesToKeep , : ]\n",
    "intraLayerEdgeTable = interactome[ interactome['source'].isin(genesToKeep)\n",
    "                                   & interactome['target'].isin(genesToKeep)\n",
    "                                 ].reset_index(drop=True)\n",
    "\n",
    "print('genes with RNA-seq values and within the interactome:', len(genesToKeep))\n",
    "\n",
    "print('edges filtered out:', len(interactome) - len(intraLayerEdgeTable))\n",
    "    \n",
    "x = intraLayerEdgeTable.groupby('edge type').count()[['source']\n",
    "                      ].rename({'source': 'interactions'}, axis=1).T\n",
    "x['Total'] = x.sum(axis=1)\n",
    "x"
   ]
  },
  {
   "cell_type": "code",
   "execution_count": 6,
   "metadata": {},
   "outputs": [
    {
     "name": "stdout",
     "output_type": "stream",
     "text": [
      "meaning of layer IDs:\n",
      "1 \t 10-15vs0-5\n",
      "2 \t 20-25vs10-15\n",
      "3 \t 30-35vs20-25\n",
      "4 \t 40-45vs30-35\n",
      "5 \t 50-55vs40-45\n",
      "6 \t 60-65vs50-55\n",
      "7 \t 70-75vs60-65\n",
      "8 \t 80-85vs70-75\n",
      "9 \t 90-95vs80-85\n"
     ]
    }
   ],
   "source": [
    "print('meaning of layer IDs:')\n",
    "for i, c in enumerate( comparisons.columns.get_level_values(0).unique() ): print(i+1, '\\t', c)"
   ]
  },
  {
   "cell_type": "code",
   "execution_count": 7,
   "metadata": {},
   "outputs": [],
   "source": [
    "# get values\n",
    "lfc = comparisons.xs( 'logFC', level='value', axis=1 )\n",
    "fdr = comparisons.xs( 'FDR', level='value', axis=1 )\n",
    "fdr = fdr.replace( 0, fdr[ fdr > 0 ].min() ) # remove null FDR\n",
    "\n",
    "# compute the score\n",
    "dysregWeight = ( np.abs( lfc ) * -np.log10( fdr ) )\n",
    "\n",
    "# normalize between 0.001 and 1, according to anatapp needs\n",
    "dysregWeight = ( 1 - 0.001 ) * ( dysregWeight / dysregWeight.max() ).fillna(0) + 0.001\n",
    "dysregWeight.columns = [ 'Weight_' + str(i) for i in range(1, len(dysregWeight.columns) + 1) ]"
   ]
  },
  {
   "cell_type": "code",
   "execution_count": 8,
   "metadata": {},
   "outputs": [],
   "source": [
    "# get queries per layer\n",
    "queries = ( fdr <= fdrCutoff )\n",
    "queries.columns = [ 'Query_' + str(i) for i in range(1, len(queries.columns) + 1) ]"
   ]
  },
  {
   "cell_type": "code",
   "execution_count": 9,
   "metadata": {},
   "outputs": [
    {
     "data": {
      "text/plain": [
       "Query_1    1694\n",
       "Query_2    2707\n",
       "Query_3     989\n",
       "Query_4     483\n",
       "Query_5      90\n",
       "Query_6      67\n",
       "Query_7      77\n",
       "Query_8      45\n",
       "Query_9       5\n",
       "dtype: int64"
      ]
     },
     "execution_count": 9,
     "metadata": {},
     "output_type": "execute_result"
    }
   ],
   "source": [
    "queries.sum()"
   ]
  },
  {
   "cell_type": "code",
   "execution_count": 10,
   "metadata": {},
   "outputs": [
    {
     "name": "stdout",
     "output_type": "stream",
     "text": [
      "core genes within the node table: 30\n"
     ]
    }
   ],
   "source": [
    "# build table\n",
    "nodeTable = dysregWeight.reset_index().rename_axis(\"\",axis=1).rename({'index': 'Node'}, axis=1)\n",
    "\n",
    "# add tag for core genes\n",
    "core_genes = pd.read_csv( coreGenes_file, sep='\\t', header=None )\n",
    "core_genes['Core'] = True\n",
    "nodeTable = pd.merge( core_genes, nodeTable, left_on=1, right_on='Node', how='right' ).iloc[:, 2:]\n",
    "nodeTable = nodeTable[ ['Node', 'Core'] + list(nodeTable.columns[2:]) ]\n",
    "nodeTable['Core'] = nodeTable['Core'].fillna(False)\n",
    "\n",
    "# add query columns\n",
    "nodeTable = pd.merge( nodeTable, queries, left_on='Node', right_index=True, how='left' ).fillna(False)\n",
    "\n",
    "print('core genes within the node table:', len(nodeTable[nodeTable['Core']]))"
   ]
  },
  {
   "cell_type": "markdown",
   "metadata": {},
   "source": [
    "## Build the inter-layer edge table"
   ]
  },
  {
   "cell_type": "code",
   "execution_count": 11,
   "metadata": {},
   "outputs": [],
   "source": [
    "interLayerEdgeTable = []\n",
    "\n",
    "# compute the inter-layer edge weights\n",
    "cols = dysregWeight.columns\n",
    "for i in range(1, len(cols)):\n",
    "    wDys1 = dysregWeight[ cols[i-1] ]\n",
    "    wDys2 = dysregWeight[ cols[i] ]\n",
    "    interLayerEdgeTable.append( ( wDys1 + wDys2 ) / ( 1 + wDys1 + wDys2 ) )\n",
    "    \n",
    "# build the table\n",
    "interLayerEdgeTable = pd.concat( interLayerEdgeTable, axis=1 )\n",
    "colNames = [ f'Weight_{i}>{i+1}' for i in range(1, len(cols)) ]\n",
    "interLayerEdgeTable.columns = colNames\n",
    "interLayerEdgeTable = interLayerEdgeTable.reset_index().rename({'index': 'source'}, axis=1)\n",
    "interLayerEdgeTable['target'] = interLayerEdgeTable['source']\n",
    "interLayerEdgeTable = interLayerEdgeTable[['source', 'target'] + colNames]"
   ]
  },
  {
   "cell_type": "markdown",
   "metadata": {},
   "source": [
    "## Export"
   ]
  },
  {
   "cell_type": "code",
   "execution_count": 12,
   "metadata": {},
   "outputs": [],
   "source": [
    "# replace locus name with gene name for core genes\n",
    "core_genes = pd.read_csv(coreGenes_file, sep='\\t', header=None)\n",
    "conversionDict = { k: v for k, v in zip(\n",
    "    core_genes[1].to_list(),\n",
    "    core_genes[0].to_list() ) }\n",
    "\n",
    "nodeTable['Node'] = nodeTable['Node'].replace(conversionDict)\n",
    "intraLayerEdgeTable['source'] = intraLayerEdgeTable['source'].replace(conversionDict)\n",
    "intraLayerEdgeTable['target'] = intraLayerEdgeTable['target'].replace(conversionDict)\n",
    "interLayerEdgeTable['source'] = interLayerEdgeTable['source'].replace(conversionDict)\n",
    "interLayerEdgeTable['target'] = interLayerEdgeTable['target'].replace(conversionDict)\n",
    "\n",
    "# export\n",
    "nodeTable.to_csv( nodeTable_file, sep='\\t', index=False )\n",
    "intraLayerEdgeTable.to_csv( intraTable_file, sep='\\t', index=False )\n",
    "interLayerEdgeTable.to_csv( interTable_file, sep='\\t', index=False )"
   ]
  }
 ],
 "metadata": {
  "kernelspec": {
   "display_name": "Python [conda env:timenexus_env]",
   "language": "python",
   "name": "conda-env-timenexus_env-py"
  },
  "language_info": {
   "codemirror_mode": {
    "name": "ipython",
    "version": 3
   },
   "file_extension": ".py",
   "mimetype": "text/x-python",
   "name": "python",
   "nbconvert_exporter": "python",
   "pygments_lexer": "ipython3",
   "version": "3.8.5"
  }
 },
 "nbformat": 4,
 "nbformat_minor": 4
}
