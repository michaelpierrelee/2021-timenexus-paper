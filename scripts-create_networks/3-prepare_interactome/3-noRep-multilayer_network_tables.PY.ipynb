{
 "cells": [
  {
   "cell_type": "markdown",
   "metadata": {},
   "source": [
    "# 3.3 (NoRep) Generate tables for the multi-layer network\n",
    "\n",
    "We limited the multilayer network from 25 to 100 min (16 layers - 1st cell cycle).\n",
    "\n",
    "First, the interactome was built such as:\n",
    "\n",
    "1. All interactions were set as undirected.\n",
    "2. A confidence score of 1 was assigned to the PDIs.\n",
    "3. Multi-edges were aggregated from the PPI table, such as the mean of PPI scores for a given node pair was calculated.\n",
    "4. The final score of an edge between a given node pair was calculated with the function: `(2 * P + D) / 4`, where P is the PPI score and D is the number of PDI edges between the node pair.\n",
    "\n",
    "Node weights were calculated such as:\n",
    "\n",
    "1. Mean of logCPM across time for each gene.\n",
    "2. Node weights were computed with: `|logCPM - avgLogCPM|`. Nodes which were not present in the RNA-sequencing dataset were filtered out.\n",
    "3. Then, for each column, weights were normalized to a range between 0.001 and 1, as the null weight is not managed by AnatApp.\n",
    "\n",
    "A node was tagged as a query for a given layer if the absolute value of the log fold change is higher than 0.5 at this layer. \n",
    "\n",
    "Inter-layer edge's weights were computed using `( wDys1 + wDys2 ) / ( 1 + wDys1 + wDys2 )`, where wDys1 and wDys2 are the weights of the node in the layer i and i+1, respectively.\n",
    "\n",
    "## Input\n",
    "\n",
    "* `data-create_networks/cell_cycle_genes/20AUG2020_KEGG_sce04111_genes.txt` cell-cycle genes from the KEGG pathway `sce04111 Cell cycle - yeast`.\n",
    "* `data-create_networks/yeastract_TF/protein_DNA_interactions.tsv`: cleaned protein-dna interactions of transcription factors from YEASTRACT database with locus names.\n",
    "* `data-create_networks/hitpredit-03Aug2020/protein_protein_interactions.tsv`: cleaned HitPredict protein-protein interaction network.\n",
    "* `data-create_networks/yeast_Kelliher_2016/yeast_WT_logCPM_noRep.txt`: normalized counts in log CPM.\n",
    "\n",
    "## Output\n",
    "\n",
    "* `data-create_networks/yeast_multiLayerNetwork/nodeTable_noRep.tsv`: node table of the multi-layer network.\n",
    "* `data-create_networks/yeast_multiLayerNetwork/intraLayerEdgeTable_noRep.tsv`: intra-layer edge table of the multi-layer network.\n",
    "* `data-create_networks/yeast_multiLayerNetwork/interLayerEdgeTable_noRep.tsv`: inter-layer edge table of the multi-layer network."
   ]
  },
  {
   "cell_type": "code",
   "execution_count": 1,
   "metadata": {},
   "outputs": [],
   "source": [
    "import pandas as pd\n",
    "import numpy as np\n",
    "import glob"
   ]
  },
  {
   "cell_type": "code",
   "execution_count": 2,
   "metadata": {},
   "outputs": [],
   "source": [
    "kegg_genes_file = '../../data-create_networks/cell_cycle_genes/20AUG2020_KEGG_sce04111_genes.txt'\n",
    "pdiTable_file = '../../data-create_networks/yeastract_TF/protein_DNA_interactions.tsv'\n",
    "ppiTable_file = '../../data-create_networks/hitpredit-03Aug2020/protein_protein_interactions.tsv'\n",
    "logCPM_file = '../../data-create_networks/yeast_Kelliher_2016/yeast_WT_logCPM_noRep.txt'\n",
    "\n",
    "nodeTable_file = '../../data-create_networks/yeast_multiLayerNetwork/nodeTable_noRep.tsv'\n",
    "intraTable_file = '../../data-create_networks/yeast_multiLayerNetwork/intraLayerEdgeTable_noRep.tsv'\n",
    "interTable_file = '../../data-create_networks/yeast_multiLayerNetwork/interLayerEdgeTable_noRep.tsv'\n",
    "\n",
    "lfcCutoff = 0.25"
   ]
  },
  {
   "cell_type": "markdown",
   "metadata": {},
   "source": [
    "## Import data"
   ]
  },
  {
   "cell_type": "code",
   "execution_count": 3,
   "metadata": {},
   "outputs": [],
   "source": [
    "ppi = pd.read_csv( ppiTable_file, sep='\\t' )\n",
    "pdi = pd.read_csv( pdiTable_file, sep='\\t' )\n",
    "logCPM = pd.read_csv( logCPM_file, sep='\\t', index_col=0 )\n",
    "kegg_genes = pd.read_csv( kegg_genes_file, sep='\\t', header=None )"
   ]
  },
  {
   "cell_type": "markdown",
   "metadata": {},
   "source": [
    "## Build the interactome\n",
    "\n",
    "Merge PPI and PDI edges and compute their scores."
   ]
  },
  {
   "cell_type": "code",
   "execution_count": 4,
   "metadata": {},
   "outputs": [
    {
     "data": {
      "text/html": [
       "<div>\n",
       "<style scoped>\n",
       "    .dataframe tbody tr th:only-of-type {\n",
       "        vertical-align: middle;\n",
       "    }\n",
       "\n",
       "    .dataframe tbody tr th {\n",
       "        vertical-align: top;\n",
       "    }\n",
       "\n",
       "    .dataframe thead th {\n",
       "        text-align: right;\n",
       "    }\n",
       "</style>\n",
       "<table border=\"1\" class=\"dataframe\">\n",
       "  <thead>\n",
       "    <tr style=\"text-align: right;\">\n",
       "      <th>edge type</th>\n",
       "      <th>PDI</th>\n",
       "      <th>PPI</th>\n",
       "      <th>PPI+PDI</th>\n",
       "      <th>Total</th>\n",
       "    </tr>\n",
       "  </thead>\n",
       "  <tbody>\n",
       "    <tr>\n",
       "      <th>interactions</th>\n",
       "      <td>11291</td>\n",
       "      <td>99042</td>\n",
       "      <td>151</td>\n",
       "      <td>110484</td>\n",
       "    </tr>\n",
       "  </tbody>\n",
       "</table>\n",
       "</div>"
      ],
      "text/plain": [
       "edge type       PDI    PPI  PPI+PDI   Total\n",
       "interactions  11291  99042      151  110484"
      ]
     },
     "execution_count": 4,
     "metadata": {},
     "output_type": "execute_result"
    }
   ],
   "source": [
    "# sort sources and targets to compare both dataframes\n",
    "undiPPI = ppi.copy()\n",
    "undiPPI[['source','target']] = np.sort( undiPPI[['source','target']].values )\n",
    "undiPDI = pdi.copy()\n",
    "undiPDI[['source','target']] = np.sort( undiPDI[['source','target']].values )\n",
    "\n",
    "# give a score to the PDI equal to the number of PDIs\n",
    "undiPDI['score'] = 1.\n",
    "undiPDI = undiPDI.groupby(by=['source', 'target']).count().reset_index()\n",
    "\n",
    "# aggregate multi edges of PDI table and multiple by 2 (because 1 undirected edge = 2 directed edge)\n",
    "undiPPI = undiPPI.groupby(['source', 'target']).mean().reset_index()\n",
    "undiPPI['score'] = undiPPI['score'] * 2\n",
    "\n",
    "# merge dataframes\n",
    "interactome = pd.merge( undiPPI, undiPDI, on=['source', 'target'], how='outer',\n",
    "                        indicator=True, suffixes=['_ppi', '_pdi']\n",
    "                      ).rename({'_merge': 'edge type'}, axis=1\n",
    "                      ).replace({'left_only': 'PPI', 'right_only': 'PDI', 'both': 'PPI+PDI'})\n",
    "\n",
    "# compute final scores\n",
    "interactome['score'] = interactome[['score_ppi', 'score_pdi']].fillna(0).sum(axis=1) / 4\n",
    "interactome = interactome[['source', 'target', 'score', 'edge type']\n",
    "                         ].rename({'score': 'Weight'}, axis=1)\n",
    "\n",
    "x = interactome.groupby('edge type').count()[['source']].rename({'source': 'interactions'}, axis=1).T\n",
    "x['Total'] = x.sum(axis=1)\n",
    "x"
   ]
  },
  {
   "cell_type": "markdown",
   "metadata": {},
   "source": [
    "## Build the node table\n",
    "\n",
    "Compute node weights for each layer from the difference the normalized counts and their average."
   ]
  },
  {
   "cell_type": "code",
   "execution_count": 5,
   "metadata": {},
   "outputs": [
    {
     "name": "stdout",
     "output_type": "stream",
     "text": [
      "interactome nodes: 5979\n",
      "genes with RNA-seq values and within the interactome: 5785\n",
      "edges filtered out: 1047\n"
     ]
    },
    {
     "data": {
      "text/html": [
       "<div>\n",
       "<style scoped>\n",
       "    .dataframe tbody tr th:only-of-type {\n",
       "        vertical-align: middle;\n",
       "    }\n",
       "\n",
       "    .dataframe tbody tr th {\n",
       "        vertical-align: top;\n",
       "    }\n",
       "\n",
       "    .dataframe thead th {\n",
       "        text-align: right;\n",
       "    }\n",
       "</style>\n",
       "<table border=\"1\" class=\"dataframe\">\n",
       "  <thead>\n",
       "    <tr style=\"text-align: right;\">\n",
       "      <th>edge type</th>\n",
       "      <th>PDI</th>\n",
       "      <th>PPI</th>\n",
       "      <th>PPI+PDI</th>\n",
       "      <th>Total</th>\n",
       "    </tr>\n",
       "  </thead>\n",
       "  <tbody>\n",
       "    <tr>\n",
       "      <th>interactions</th>\n",
       "      <td>10938</td>\n",
       "      <td>98348</td>\n",
       "      <td>151</td>\n",
       "      <td>109437</td>\n",
       "    </tr>\n",
       "  </tbody>\n",
       "</table>\n",
       "</div>"
      ],
      "text/plain": [
       "edge type       PDI    PPI  PPI+PDI   Total\n",
       "interactions  10938  98348      151  109437"
      ]
     },
     "execution_count": 5,
     "metadata": {},
     "output_type": "execute_result"
    }
   ],
   "source": [
    "nodes = set(interactome['source']) | set(interactome['target'])\n",
    "print('interactome nodes:', len(nodes))\n",
    "\n",
    "# compute node weight\n",
    "nodeWeight = abs( logCPM.T - logCPM.mean(axis=1) ).T\n",
    "\n",
    "# keep the genes with RNA-seq values and which are within the interactome\n",
    "genesToKeep = set(nodeWeight.index) & nodes\n",
    "nodeWeight = nodeWeight.loc[ genesToKeep , : ]\n",
    "intraLayerEdgeTable = interactome[ interactome['source'].isin(genesToKeep)\n",
    "                                   & interactome['target'].isin(genesToKeep)\n",
    "                                 ].reset_index(drop=True)\n",
    "\n",
    "# normalize between 0.001 and 1, according to anatapp needs\n",
    "nodeWeight = ( 1 - 0.001 ) * ( nodeWeight / nodeWeight.max() ).fillna(0) + 0.001\n",
    "nodeWeight.columns = [ 'Weight_' + str(i) for i in range(1, len(nodeWeight.columns) + 1) ]\n",
    "\n",
    "# print\n",
    "print('genes with RNA-seq values and within the interactome:', len(genesToKeep))\n",
    "print('edges filtered out:', len(interactome) - len(intraLayerEdgeTable))\n",
    "    \n",
    "x = intraLayerEdgeTable.groupby('edge type').count()[['source']\n",
    "                      ].rename({'source': 'interactions'}, axis=1).T\n",
    "x['Total'] = x.sum(axis=1)\n",
    "x"
   ]
  },
  {
   "cell_type": "code",
   "execution_count": 6,
   "metadata": {},
   "outputs": [
    {
     "name": "stdout",
     "output_type": "stream",
     "text": [
      "meaning of layer IDs:\n",
      "1 \t Weight_1\n",
      "2 \t Weight_2\n",
      "3 \t Weight_3\n",
      "4 \t Weight_4\n",
      "5 \t Weight_5\n",
      "6 \t Weight_6\n",
      "7 \t Weight_7\n",
      "8 \t Weight_8\n",
      "9 \t Weight_9\n",
      "10 \t Weight_10\n",
      "11 \t Weight_11\n",
      "12 \t Weight_12\n",
      "13 \t Weight_13\n",
      "14 \t Weight_14\n",
      "15 \t Weight_15\n",
      "16 \t Weight_16\n"
     ]
    }
   ],
   "source": [
    "print('meaning of layer IDs:')\n",
    "for i, c in enumerate( nodeWeight.columns.get_level_values(0).unique() ): print(i+1, '\\t', c)"
   ]
  },
  {
   "cell_type": "code",
   "execution_count": 7,
   "metadata": {},
   "outputs": [
    {
     "data": {
      "text/html": [
       "<div>\n",
       "<style scoped>\n",
       "    .dataframe tbody tr th:only-of-type {\n",
       "        vertical-align: middle;\n",
       "    }\n",
       "\n",
       "    .dataframe tbody tr th {\n",
       "        vertical-align: top;\n",
       "    }\n",
       "\n",
       "    .dataframe thead th {\n",
       "        text-align: right;\n",
       "    }\n",
       "</style>\n",
       "<table border=\"1\" class=\"dataframe\">\n",
       "  <thead>\n",
       "    <tr style=\"text-align: right;\">\n",
       "      <th></th>\n",
       "      <th># query nodes</th>\n",
       "      <th># KEGG genes in query</th>\n",
       "    </tr>\n",
       "  </thead>\n",
       "  <tbody>\n",
       "    <tr>\n",
       "      <th>layer 1</th>\n",
       "      <td>243</td>\n",
       "      <td>26</td>\n",
       "    </tr>\n",
       "    <tr>\n",
       "      <th>layer 2</th>\n",
       "      <td>148</td>\n",
       "      <td>18</td>\n",
       "    </tr>\n",
       "    <tr>\n",
       "      <th>layer 3</th>\n",
       "      <td>242</td>\n",
       "      <td>20</td>\n",
       "    </tr>\n",
       "    <tr>\n",
       "      <th>layer 4</th>\n",
       "      <td>193</td>\n",
       "      <td>14</td>\n",
       "    </tr>\n",
       "    <tr>\n",
       "      <th>layer 5</th>\n",
       "      <td>132</td>\n",
       "      <td>11</td>\n",
       "    </tr>\n",
       "    <tr>\n",
       "      <th>layer 6</th>\n",
       "      <td>135</td>\n",
       "      <td>13</td>\n",
       "    </tr>\n",
       "    <tr>\n",
       "      <th>layer 7</th>\n",
       "      <td>172</td>\n",
       "      <td>23</td>\n",
       "    </tr>\n",
       "    <tr>\n",
       "      <th>layer 8</th>\n",
       "      <td>249</td>\n",
       "      <td>29</td>\n",
       "    </tr>\n",
       "    <tr>\n",
       "      <th>layer 9</th>\n",
       "      <td>264</td>\n",
       "      <td>32</td>\n",
       "    </tr>\n",
       "    <tr>\n",
       "      <th>layer 10</th>\n",
       "      <td>281</td>\n",
       "      <td>34</td>\n",
       "    </tr>\n",
       "    <tr>\n",
       "      <th>layer 11</th>\n",
       "      <td>178</td>\n",
       "      <td>10</td>\n",
       "    </tr>\n",
       "    <tr>\n",
       "      <th>layer 12</th>\n",
       "      <td>98</td>\n",
       "      <td>4</td>\n",
       "    </tr>\n",
       "    <tr>\n",
       "      <th>layer 13</th>\n",
       "      <td>100</td>\n",
       "      <td>6</td>\n",
       "    </tr>\n",
       "    <tr>\n",
       "      <th>layer 14</th>\n",
       "      <td>87</td>\n",
       "      <td>5</td>\n",
       "    </tr>\n",
       "    <tr>\n",
       "      <th>layer 15</th>\n",
       "      <td>62</td>\n",
       "      <td>2</td>\n",
       "    </tr>\n",
       "    <tr>\n",
       "      <th>layer 16</th>\n",
       "      <td>69</td>\n",
       "      <td>2</td>\n",
       "    </tr>\n",
       "  </tbody>\n",
       "</table>\n",
       "</div>"
      ],
      "text/plain": [
       "          # query nodes  # KEGG genes in query\n",
       "layer 1             243                     26\n",
       "layer 2             148                     18\n",
       "layer 3             242                     20\n",
       "layer 4             193                     14\n",
       "layer 5             132                     11\n",
       "layer 6             135                     13\n",
       "layer 7             172                     23\n",
       "layer 8             249                     29\n",
       "layer 9             264                     32\n",
       "layer 10            281                     34\n",
       "layer 11            178                     10\n",
       "layer 12             98                      4\n",
       "layer 13            100                      6\n",
       "layer 14             87                      5\n",
       "layer 15             62                      2\n",
       "layer 16             69                      2"
      ]
     },
     "execution_count": 7,
     "metadata": {},
     "output_type": "execute_result"
    }
   ],
   "source": [
    "# get queries per layer\n",
    "queries = ( nodeWeight >= lfcCutoff )\n",
    "queries.columns = [ 'Query_' + str(i) for i in range(1, len(queries.columns) + 1) ]\n",
    "\n",
    "pd.DataFrame(\n",
    "    [ [ queries[c].sum(),\n",
    "        queries[queries[c]].index.isin(kegg_genes[0]).sum() ]\n",
    "      for c in queries.columns ],\n",
    "    index = [f'layer {str(i+1)}' for i in range(len(queries.columns))],\n",
    "    columns = [ '# query nodes', '# KEGG genes in query' ]\n",
    ")"
   ]
  },
  {
   "cell_type": "code",
   "execution_count": 8,
   "metadata": {},
   "outputs": [
    {
     "name": "stdout",
     "output_type": "stream",
     "text": [
      "core genes within the node table: 130\n"
     ]
    }
   ],
   "source": [
    "# build table\n",
    "nodeTable = nodeWeight.reset_index().rename_axis('', axis=1)\n",
    "\n",
    "# add tag for KEGG genes\n",
    "kg = kegg_genes[[0]].copy()\n",
    "kg['Core'] = True\n",
    "nodeTable = pd.merge( kg, nodeTable, left_on=0, right_on='index', how='right'\n",
    "                    ).drop( 'index', axis=1 ).rename( {0: 'Node'}, axis=1 )\n",
    "\n",
    "# add query columns\n",
    "nodeTable = pd.merge( nodeTable, queries, left_on='Node', right_index=True, how='left'\n",
    "                    ).fillna(False)\n",
    "\n",
    "print('core genes within the node table:', len(nodeTable[nodeTable['Core']]))"
   ]
  },
  {
   "cell_type": "markdown",
   "metadata": {},
   "source": [
    "## Build the inter-layer edge table"
   ]
  },
  {
   "cell_type": "code",
   "execution_count": 9,
   "metadata": {},
   "outputs": [],
   "source": [
    "interLayerEdgeTable = []\n",
    "\n",
    "# compute the inter-layer edge weights\n",
    "cols = nodeWeight.columns\n",
    "for i in range(1, len(cols)):\n",
    "    wDys1 = nodeWeight[ cols[i-1] ]\n",
    "    wDys2 = nodeWeight[ cols[i] ]\n",
    "    interLayerEdgeTable.append( ( wDys1 + wDys2 ) / ( 1 + wDys1 + wDys2 ) )\n",
    "    \n",
    "# build the table\n",
    "interLayerEdgeTable = pd.concat( interLayerEdgeTable, axis=1 )\n",
    "colNames = [ f'Weight_{i}>{i+1}' for i in range(1, len(cols)) ]\n",
    "interLayerEdgeTable.columns = colNames\n",
    "interLayerEdgeTable = interLayerEdgeTable.reset_index().rename({'index': 'source'}, axis=1)\n",
    "interLayerEdgeTable['target'] = interLayerEdgeTable['source']\n",
    "interLayerEdgeTable = interLayerEdgeTable[['source', 'target'] + colNames]"
   ]
  },
  {
   "cell_type": "markdown",
   "metadata": {},
   "source": [
    "## Export"
   ]
  },
  {
   "cell_type": "code",
   "execution_count": 10,
   "metadata": {},
   "outputs": [],
   "source": [
    "# export\n",
    "nodeTable.to_csv( nodeTable_file, sep='\\t', index=False )\n",
    "intraLayerEdgeTable.to_csv( intraTable_file, sep='\\t', index=False )\n",
    "interLayerEdgeTable.to_csv( interTable_file, sep='\\t', index=False )"
   ]
  }
 ],
 "metadata": {
  "kernelspec": {
   "display_name": "Python [conda env:timenexus_env]",
   "language": "python",
   "name": "conda-env-timenexus_env-py"
  },
  "language_info": {
   "codemirror_mode": {
    "name": "ipython",
    "version": 3
   },
   "file_extension": ".py",
   "mimetype": "text/x-python",
   "name": "python",
   "nbconvert_exporter": "python",
   "pygments_lexer": "ipython3",
   "version": "3.7.8"
  }
 },
 "nbformat": 4,
 "nbformat_minor": 4
}
