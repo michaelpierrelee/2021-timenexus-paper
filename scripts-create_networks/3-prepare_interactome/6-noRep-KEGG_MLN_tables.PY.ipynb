{
 "cells": [
  {
   "cell_type": "markdown",
   "metadata": {},
   "source": [
    "# 3.2 (NoRep) Generate tables for the KEGG yeast cell-cycle multilayer network\n",
    "\n",
    "Extract the part of the yeast multilayer network involved in the KEGG yeast cell-cycle.\n",
    "\n",
    "We only kept the KEGG cell-cycle genes and the interactions between these genes. We built a \"isQuery\" column to visualize the query (differentially expressed) node-layers. This column has to be manually added to the flattened network after converting the tables to a multilayer network.\n",
    "\n",
    "## Input\n",
    "\n",
    "* `data-create_networks/yeast_multiLayerNetwork/nodeTable_noRep.tsv`: node table of the multilayer network.\n",
    "* `data-create_networks/yeast_multiLayerNetwork/intraLayerEdgeTable_noRep.tsv`: intra-layer edge table of the multilayer network.\n",
    "* `data-create_networks/yeast_multiLayerNetwork/interLayerEdgeTable_noRep.tsv`: inter-layer edge table of the multilayer network.\n",
    "\n",
    "## Output\n",
    "\n",
    "* `data-create_networks/yeast_multiLayerNetwork/KEGG-cell-cycle-MLN/nodeTable_noRep.tsv`: node table of the core multilayer network.\n",
    "* `data-create_networks/yeast_multiLayerNetwork/KEGG-cell-cycle-MLN/intraLayerEdgeTable_noRep.tsv`: intra-layer edge table of the core multilayer network.\n",
    "* `data-create_networks/yeast_multiLayerNetwork/KEGG-cell-cycle-MLN/interLayerEdgeTable_noRep.tsv`: inter-layer edge table of the core multilayer network.\n",
    "* `data-create_networks/yeast_multiLayerNetwork/KEGG-cell-cycle-MLN/nodeTable_flattenedNetwork_isquery_noRep.csv`: isQuery column to add to the node table of the flattened network."
   ]
  },
  {
   "cell_type": "code",
   "execution_count": 1,
   "metadata": {},
   "outputs": [],
   "source": [
    "import pandas as pd"
   ]
  },
  {
   "cell_type": "code",
   "execution_count": 2,
   "metadata": {},
   "outputs": [],
   "source": [
    "path = '../../data-create_networks/'\n",
    "\n",
    "whole_nodeTable_file = path + 'yeast_multiLayerNetwork/nodeTable_noRep.tsv'\n",
    "whole_intraTable_file = path + 'yeast_multiLayerNetwork/intraLayerEdgeTable_noRep.tsv'\n",
    "whole_interTable_file = path + 'yeast_multiLayerNetwork/interLayerEdgeTable_noRep.tsv'\n",
    "\n",
    "kegg_nodeTable_file = path + 'yeast_multiLayerNetwork/KEGG-cell-cycle-MLN/nodeTable_noRep.tsv'\n",
    "kegg_intraTable_file = path + 'yeast_multiLayerNetwork/KEGG-cell-cycle-MLN/intraLayerEdgeTable_noRep.tsv'\n",
    "kegg_interTable_file = path + 'yeast_multiLayerNetwork/KEGG-cell-cycle-MLN/interLayerEdgeTable_noRep.tsv'\n",
    "\n",
    "isquery_nodeTable_file = path + 'yeast_multiLayerNetwork/KEGG-cell-cycle-MLN/nodeTable_flattenedNetwork_isquery_noRep.csv'"
   ]
  },
  {
   "cell_type": "markdown",
   "metadata": {},
   "source": [
    "## Import data"
   ]
  },
  {
   "cell_type": "code",
   "execution_count": 3,
   "metadata": {},
   "outputs": [],
   "source": [
    "whole_nodeTable = pd.read_csv( whole_nodeTable_file, sep='\\t' )\n",
    "whole_intraTable = pd.read_csv( whole_intraTable_file, sep='\\t' )\n",
    "whole_interTable = pd.read_csv( whole_interTable_file, sep='\\t' )"
   ]
  },
  {
   "cell_type": "markdown",
   "metadata": {},
   "source": [
    "## Extract the core cell-cycle network"
   ]
  },
  {
   "cell_type": "code",
   "execution_count": 4,
   "metadata": {},
   "outputs": [],
   "source": [
    "# extract the interactions between core genes from the yeast multilayer network\n",
    "kegg_nodeTable = whole_nodeTable[ whole_nodeTable['Core'] ]\n",
    "nodes = kegg_nodeTable['Node'].values\n",
    "\n",
    "kegg_intraTable = whole_intraTable[ whole_intraTable['source'].isin(nodes)\n",
    "                                   & whole_intraTable['target'].isin(nodes) ]\n",
    "kegg_interTable = whole_interTable[ whole_interTable['source'].isin(nodes)\n",
    "                                   & whole_interTable['target'].isin(nodes) ]"
   ]
  },
  {
   "cell_type": "code",
   "execution_count": 5,
   "metadata": {},
   "outputs": [],
   "source": [
    "# make a column 'isQuery' for the node table of the flattened network\n",
    "isQuery = {}\n",
    "for n in kegg_nodeTable['Node']:\n",
    "    for i in range(1,10):\n",
    "        q = kegg_nodeTable[ kegg_nodeTable['Node'] == n ][f'Query_{i}'].tolist()[0]\n",
    "        isQuery[f'{n}_{i}'] = q\n",
    "        \n",
    "pd.Series(isQuery).rename('isQuery2').to_csv( isquery_nodeTable_file )"
   ]
  },
  {
   "cell_type": "code",
   "execution_count": 6,
   "metadata": {},
   "outputs": [],
   "source": [
    "kegg_nodeTable.to_csv( kegg_nodeTable_file, sep='\\t', index=False )\n",
    "kegg_intraTable.to_csv( kegg_intraTable_file, sep='\\t', index=False )\n",
    "kegg_interTable.to_csv( kegg_interTable_file, sep='\\t', index=False )"
   ]
  }
 ],
 "metadata": {
  "kernelspec": {
   "display_name": "Python [conda env:timenexus_env]",
   "language": "python",
   "name": "conda-env-timenexus_env-py"
  },
  "language_info": {
   "codemirror_mode": {
    "name": "ipython",
    "version": 3
   },
   "file_extension": ".py",
   "mimetype": "text/x-python",
   "name": "python",
   "nbconvert_exporter": "python",
   "pygments_lexer": "ipython3",
   "version": "3.7.8"
  }
 },
 "nbformat": 4,
 "nbformat_minor": 4
}
