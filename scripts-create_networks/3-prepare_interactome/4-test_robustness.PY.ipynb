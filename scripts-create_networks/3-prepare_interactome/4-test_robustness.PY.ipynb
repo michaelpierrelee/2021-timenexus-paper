{
 "cells": [
  {
   "cell_type": "markdown",
   "metadata": {},
   "source": [
    "# 3.4 Test TimeNexus robustness\n",
    "\n",
    "Prepare multilayer networks to test the robustness of TimeNexus.\n",
    "\n",
    "We generated 3 types of multilayer networks from the initial yeast MLN:\n",
    "* **Permuted nodes**: the node names of the node table were shuffle, so the biological meaning of the network was changed but not its topology.\n",
    "* **Random intra-layer edge weights**: a random weight following the uniform distribution $]0.01,1]$ was set to each intra-layer edge.\n",
    "* **Perfect intra-layer edge weights**: a weight of 1 was set to each intra-layer edge.\n",
    "\n",
    "## Input\n",
    "\n",
    "* `data-create_networks/yeast_multiLayerNetwork/intraLayerEdgeTable_noRep.tsv`: intra-layer edge table of the multi-layer network.\n",
    "\n",
    "## Output\n",
    "\n",
    "* `data-create_networks/yeast_multiLayerNetwork/nodeTable_noRep.tsv`: node table of the multi-layer network.\n",
    "* `data-create_networks/yeast_multiLayerNetwork/robustness/`: modified intra-layer edge tables.\n",
    "    * `permutedNodes_nodeTable_noRep.tsv`: the node names of the node table were shuffled.\n",
    "    * `randomEdgeWeights_intraLayerEdgeTable_noRep.tsv`: a random weight was attributed to each edge.\n",
    "    * `perfectEdgeWeights_intraLayerEdgeTable_noRep.tsv`: each edge got a weight of 1."
   ]
  },
  {
   "cell_type": "code",
   "execution_count": 1,
   "metadata": {},
   "outputs": [],
   "source": [
    "import pandas as pd\n",
    "import random\n",
    "\n",
    "random.seed(123456789)"
   ]
  },
  {
   "cell_type": "code",
   "execution_count": 2,
   "metadata": {},
   "outputs": [],
   "source": [
    "nodeTable_file = '../../data-create_networks/yeast_multiLayerNetwork/nodeTable_noRep.tsv'\n",
    "intraTable_file = '../../data-create_networks/yeast_multiLayerNetwork/intraLayerEdgeTable_noRep.tsv'\n",
    "\n",
    "path = '../../data-create_networks/yeast_multiLayerNetwork/robustness/'\n",
    "permutedNodes_file = path + 'permutedNodes_nodeTable_noRep.tsv'\n",
    "randomEdgeWeights_file = path + 'randomEdgeWeights_intraLayerEdgeTable_noRep.tsv'\n",
    "perfectEdgeWeights_file = path + 'perfectEdgeWeights_intraLayerEdgeTable_noRep.tsv'"
   ]
  },
  {
   "cell_type": "markdown",
   "metadata": {},
   "source": [
    "## Import data"
   ]
  },
  {
   "cell_type": "code",
   "execution_count": 3,
   "metadata": {},
   "outputs": [],
   "source": [
    "nodeTable = pd.read_csv( nodeTable_file, sep='\\t' )\n",
    "intraTable = pd.read_csv( intraTable_file, sep='\\t' )"
   ]
  },
  {
   "cell_type": "markdown",
   "metadata": {},
   "source": [
    "## Generate new tables"
   ]
  },
  {
   "cell_type": "code",
   "execution_count": 4,
   "metadata": {},
   "outputs": [],
   "source": [
    "# generate the permuted-node table\n",
    "permutedNodes = nodeTable.copy()\n",
    "\n",
    "nodes = permutedNodes['Node'].to_list()\n",
    "\n",
    "random.shuffle(nodes)\n",
    "\n",
    "permutedNodes['Node'] = nodes"
   ]
  },
  {
   "cell_type": "code",
   "execution_count": 5,
   "metadata": {},
   "outputs": [],
   "source": [
    "# generate the random edge-weight table\n",
    "randomEdgeWeights = intraTable.copy()\n",
    "\n",
    "randomEdgeWeights['Weight'] = [ random.uniform(0.01,1) for i in range(len(randomEdgeWeights)) ]"
   ]
  },
  {
   "cell_type": "code",
   "execution_count": 6,
   "metadata": {},
   "outputs": [],
   "source": [
    "# generate the perfect edge-weight table\n",
    "perfectEdgeWeights = intraTable.copy()\n",
    "\n",
    "perfectEdgeWeights['Weight'] = [1.0] * len(perfectEdgeWeights)"
   ]
  },
  {
   "cell_type": "markdown",
   "metadata": {},
   "source": [
    "## Export"
   ]
  },
  {
   "cell_type": "code",
   "execution_count": 7,
   "metadata": {},
   "outputs": [],
   "source": [
    "permutedNodes.to_csv( permutedNodes_file, sep='\\t', index=False )\n",
    "randomEdgeWeights.to_csv( randomEdgeWeights_file, sep='\\t', index=False )\n",
    "perfectEdgeWeights.to_csv( perfectEdgeWeights_file, sep='\\t', index=False )"
   ]
  }
 ],
 "metadata": {
  "kernelspec": {
   "display_name": "Python [conda env:python_env]",
   "language": "python",
   "name": "conda-env-python_env-py"
  },
  "language_info": {
   "codemirror_mode": {
    "name": "ipython",
    "version": 3
   },
   "file_extension": ".py",
   "mimetype": "text/x-python",
   "name": "python",
   "nbconvert_exporter": "python",
   "pygments_lexer": "ipython3",
   "version": "3.8.1"
  }
 },
 "nbformat": 4,
 "nbformat_minor": 4
}
