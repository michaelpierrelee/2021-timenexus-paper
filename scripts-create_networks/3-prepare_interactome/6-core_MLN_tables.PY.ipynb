{
 "cells": [
  {
   "cell_type": "markdown",
   "metadata": {},
   "source": [
    "# 3.2 Generate tables for the core multilayer network\n",
    "\n",
    "Extract the part of the yeast multilayer network involved in the core cell-cycle.\n",
    "\n",
    "We only kept the core cell-cycle genes and the interactions between these genes. We built a \"isQuery\" column to visualize the query (differentially expressed) node-layers. This column has to be manually added to the flattened network after converting the tables to a multilayer network.\n",
    "\n",
    "## Input\n",
    "\n",
    "* `data-create_networks/yeast_multiLayerNetwork/nodeTable.tsv`: node table of the multilayer network.\n",
    "* `data-create_networks/yeast_multiLayerNetwork/intraLayerEdgeTable.tsv`: intra-layer edge table of the multilayer network.\n",
    "* `data-create_networks/yeast_multiLayerNetwork/interLayerEdgeTable.tsv`: inter-layer edge table of the multilayer network.\n",
    "\n",
    "## Output\n",
    "\n",
    "* `data-create_networks/yeast_multiLayerNetwork/core-cell-cycle/nodeTable.tsv`: node table of the core multilayer network.\n",
    "* `data-create_networks/yeast_multiLayerNetwork/core-cell-cycle/intraLayerEdgeTable.tsv`: intra-layer edge table of the core multilayer network.\n",
    "* `data-create_networks/yeast_multiLayerNetwork/core-cell-cycle/interLayerEdgeTable.tsv`: inter-layer edge table of the core multilayer network.\n",
    "* `data-create_networks/yeast_multiLayerNetwork/core-cell-cycle/nodeTable_flattenedNetwork_isquery.csv`: isQuery column to add to the node table of the flattened network."
   ]
  },
  {
   "cell_type": "code",
   "execution_count": 1,
   "metadata": {},
   "outputs": [],
   "source": [
    "import pandas as pd"
   ]
  },
  {
   "cell_type": "code",
   "execution_count": 2,
   "metadata": {},
   "outputs": [],
   "source": [
    "whole_nodeTable_file = '../../data-create_networks/yeast_multiLayerNetwork/nodeTable.tsv'\n",
    "whole_intraTable_file = '../../data-create_networks/yeast_multiLayerNetwork/intraLayerEdgeTable.tsv'\n",
    "whole_interTable_file = '../../data-create_networks/yeast_multiLayerNetwork/interLayerEdgeTable.tsv'\n",
    "\n",
    "core_nodeTable_file = '../../data-create_networks/yeast_multiLayerNetwork/core-cell-cycle-MLN/nodeTable.tsv'\n",
    "core_intraTable_file = '../../data-create_networks/yeast_multiLayerNetwork/core-cell-cycle-MLN/intraLayerEdgeTable.tsv'\n",
    "core_interTable_file = '../../data-create_networks/yeast_multiLayerNetwork/core-cell-cycle-MLN/interLayerEdgeTable.tsv'\n",
    "\n",
    "isquery_nodeTable_file = '../../data-create_networks/yeast_multiLayerNetwork/core-cell-cycle-MLN/nodeTable_flattenedNetwork_isquery.csv'"
   ]
  },
  {
   "cell_type": "markdown",
   "metadata": {},
   "source": [
    "## Import data"
   ]
  },
  {
   "cell_type": "code",
   "execution_count": 3,
   "metadata": {},
   "outputs": [],
   "source": [
    "whole_nodeTable = pd.read_csv( whole_nodeTable_file, sep='\\t' )\n",
    "whole_intraTable = pd.read_csv( whole_intraTable_file, sep='\\t' )\n",
    "whole_interTable = pd.read_csv( whole_interTable_file, sep='\\t' )"
   ]
  },
  {
   "cell_type": "markdown",
   "metadata": {},
   "source": [
    "## Extract the core cell-cycle network"
   ]
  },
  {
   "cell_type": "code",
   "execution_count": 4,
   "metadata": {},
   "outputs": [],
   "source": [
    "# extract the interactions between core genes from the yeast multilayer network\n",
    "core_nodeTable = whole_nodeTable[ whole_nodeTable['Core'] ]\n",
    "nodes = core_nodeTable['Node'].values\n",
    "\n",
    "core_intraTable = whole_intraTable[ whole_intraTable['source'].isin(nodes)\n",
    "                                   & whole_intraTable['target'].isin(nodes) ]\n",
    "core_interTable = whole_interTable[ whole_interTable['source'].isin(nodes)\n",
    "                                   & whole_interTable['target'].isin(nodes) ]"
   ]
  },
  {
   "cell_type": "code",
   "execution_count": 6,
   "metadata": {},
   "outputs": [],
   "source": [
    "# make a column 'isQuery' for the node table of the flattened network\n",
    "isQuery = {}\n",
    "for n in core_nodeTable['Node']:\n",
    "    for i in range(1,10):\n",
    "        q = core_nodeTable[ core_nodeTable['Node'] == n ][f'Query_{i}'].tolist()[0]\n",
    "        isQuery[f'{n}_{i}'] = q\n",
    "        \n",
    "pd.Series(isQuery).rename('isQuery2').to_csv( isquery_nodeTable_file )"
   ]
  },
  {
   "cell_type": "code",
   "execution_count": 5,
   "metadata": {},
   "outputs": [],
   "source": [
    "core_nodeTable.to_csv( core_nodeTable_file, sep='\\t', index=False )\n",
    "core_intraTable.to_csv( core_intraTable_file, sep='\\t', index=False )\n",
    "core_interTable.to_csv( core_interTable_file, sep='\\t', index=False )"
   ]
  }
 ],
 "metadata": {
  "kernelspec": {
   "display_name": "Python [conda env:timenexus_env]",
   "language": "python",
   "name": "conda-env-timenexus_env-py"
  },
  "language_info": {
   "codemirror_mode": {
    "name": "ipython",
    "version": 3
   },
   "file_extension": ".py",
   "mimetype": "text/x-python",
   "name": "python",
   "nbconvert_exporter": "python",
   "pygments_lexer": "ipython3",
   "version": "3.8.5"
  }
 },
 "nbformat": 4,
 "nbformat_minor": 4
}
