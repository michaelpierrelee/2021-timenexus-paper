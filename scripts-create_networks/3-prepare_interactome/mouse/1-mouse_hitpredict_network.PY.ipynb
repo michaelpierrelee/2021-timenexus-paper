{
 "cells": [
  {
   "cell_type": "markdown",
   "metadata": {},
   "source": [
    "# 3.1. (Mouse) Prepare HitPredict protein-protein interaction network\n",
    "\n",
    "Filter out interactions with low confidence score and remove self loops.\n",
    "\n",
    "Use gene names.\n",
    "\n",
    "Confidence score threshold was set at 0.281 as recommended by López et al. (2015) to get high-quality interactions.\n",
    "\n",
    "## Input\n",
    "* `data-create_networks/hitpredit-03Aug2020/M_musculus_interactions_MITAB-2.5.txt`: HitPredict protein-protein interactions for yeast as psi-mi 2.5 tab file.\n",
    "\n",
    "## Output\n",
    "\n",
    "* `data-create_networks/hitpredit-03Aug2020/mouse_ppi.tsv`: cleaned HitPredict protein-protein interaction network."
   ]
  },
  {
   "cell_type": "code",
   "execution_count": 1,
   "metadata": {},
   "outputs": [],
   "source": [
    "import pandas as pd\n",
    "import matplotlib.pyplot as plt\n",
    "import seaborn as sns"
   ]
  },
  {
   "cell_type": "code",
   "execution_count": 2,
   "metadata": {},
   "outputs": [],
   "source": [
    "hitpredict_file = '../../../data-create_networks/hitpredit-03Aug2020/M_musculus_interactions_MITAB-2.5.txt'\n",
    "ppiTable_file = '../../../data-create_networks/hitpredit-03Aug2020/mouse_ppi.tsv'"
   ]
  },
  {
   "cell_type": "markdown",
   "metadata": {},
   "source": [
    "## Import data"
   ]
  },
  {
   "cell_type": "code",
   "execution_count": 3,
   "metadata": {},
   "outputs": [],
   "source": [
    "hitpred = pd.read_csv( hitpredict_file, sep='\\t', header=None, skiprows=6 )[[ 2, 3, 14 ]].rename(\n",
    "    {2: 'source', 3: 'target', 14: 'score'}, axis=1)\n",
    "\n",
    "hitpred['source'] = hitpred['source'].str.replace('_MOUSE\\(gene name\\)', '')\n",
    "hitpred['target'] = hitpred['target'].str.replace('_MOUSE\\(gene name\\)', '')"
   ]
  },
  {
   "cell_type": "markdown",
   "metadata": {},
   "source": [
    "## Filter out low confidence score interactions"
   ]
  },
  {
   "cell_type": "code",
   "execution_count": 4,
   "metadata": {},
   "outputs": [
    {
     "name": "stdout",
     "output_type": "stream",
     "text": [
      "number of raw interactions: 34154\n",
      "with score >= 0.281: 31344\n"
     ]
    },
    {
     "data": {
      "image/png": "[encoded data removed]",
      "text/plain": [
       "<Figure size 432x288 with 1 Axes>"
      ]
     },
     "metadata": {
      "needs_background": "light"
     },
     "output_type": "display_data"
    }
   ],
   "source": [
    "hitpred_filt = hitpred[ hitpred['score'] >= 0.281 ]\n",
    "\n",
    "print( 'number of raw interactions:', len(hitpred) )\n",
    "print( 'with score >= 0.281:', len(hitpred_filt) )\n",
    "\n",
    "g = sns.distplot( hitpred.loc[ :, 'score' ] )\n",
    "plt.xlim([0.1,1])\n",
    "plt.title( 'Density of interaction scores', y=1.01 )\n",
    "plt.show()"
   ]
  },
  {
   "cell_type": "markdown",
   "metadata": {},
   "source": [
    "## Clean interaction matrix"
   ]
  },
  {
   "cell_type": "code",
   "execution_count": 5,
   "metadata": {},
   "outputs": [
    {
     "name": "stdout",
     "output_type": "stream",
     "text": [
      "no duplicated entry: True\n",
      "number of self loops: 589\n"
     ]
    }
   ],
   "source": [
    "# check there are no redundant entries\n",
    "x = hitpred[['source', 'target']].copy()\n",
    "x.values.sort()\n",
    "print('no duplicated entry:', len( x.drop_duplicates() ) == len( hitpred ))\n",
    "\n",
    "# remove self loops\n",
    "print( 'number of self loops:', len( hitpred[ hitpred['source'] == hitpred['target'] ] ) )\n",
    "ppi = hitpred[ hitpred['source'] != hitpred['target'] ]"
   ]
  },
  {
   "cell_type": "markdown",
   "metadata": {},
   "source": [
    "## Export"
   ]
  },
  {
   "cell_type": "code",
   "execution_count": 6,
   "metadata": {},
   "outputs": [
    {
     "name": "stdout",
     "output_type": "stream",
     "text": [
      "interactions: 33565\n",
      "proteins: 9509\n"
     ]
    }
   ],
   "source": [
    "print('interactions:', len(ppi))\n",
    "print('proteins:', len( set(ppi['source']) | set(ppi['target'])) )"
   ]
  },
  {
   "cell_type": "code",
   "execution_count": 7,
   "metadata": {},
   "outputs": [],
   "source": [
    "ppi.to_csv( ppiTable_file, sep='\\t', index=False )"
   ]
  }
 ],
 "metadata": {
  "kernelspec": {
   "display_name": "Python [conda env:timenexus_env]",
   "language": "python",
   "name": "conda-env-timenexus_env-py"
  },
  "language_info": {
   "codemirror_mode": {
    "name": "ipython",
    "version": 3
   },
   "file_extension": ".py",
   "mimetype": "text/x-python",
   "name": "python",
   "nbconvert_exporter": "python",
   "pygments_lexer": "ipython3",
   "version": "3.8.5"
  }
 },
 "nbformat": 4,
 "nbformat_minor": 4
}
