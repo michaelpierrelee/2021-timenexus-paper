{
 "cells": [
  {
   "cell_type": "markdown",
   "metadata": {},
   "source": [
    "# 3.2 (Mouse) Generate tables for the multilayer network\n",
    "\n",
    "\n",
    "First, the interactome was built such as:\n",
    "\n",
    "1. All interactions were set as undirected.\n",
    "2. A confidence score of 1 was assigned to the PDIs.\n",
    "3. Multi-edges were aggregated from the PPI table, such as the mean of PPI scores for a given node pair was calculated.\n",
    "\n",
    "Node weights were calculated such as:\n",
    "\n",
    "1. Node weights were computed with: `- log10(Padj) * |LFC|`. Nodes which were not present in the RNA-sequencing dataset were filtered out.\n",
    "2. Then, for each column, weights were normalized to a range between 0.001 and 1, as the null weight is not managed by AnatApp.\n",
    "\n",
    "A node was tagged as a query for a given layer if its gene was differentially expressed (adjusted p-value <= 0.05) at this layer. \n",
    "\n",
    "Aggregated weight and query columns were added to the node table in order to have the same file for both tests with TimeNexus and the extracting apps. Aggregated weights were the mean of weights across layers. For the aggregated query column, if a gene was differentially expressed in any comparison, then it was tagged as a query node.\n",
    "\n",
    "Inter-layer edge's weights were computed using `( wDys1 + wDys2 ) / ( 1 + wDys1 + wDys2 )`, where wDys1 and wDys2 are the weights of the node in the layer i and i+1, respectively.\n",
    "\n",
    "## Input\n",
    "\n",
    "* `data-create_networks/hitpredit-03Aug2020/mouse_ppi.tsv`: cleaned HitPredict protein-protein interaction network.\n",
    "* Files within the folder `data-create_networks/mouse/comparisons/`: results of the DEA for the 18 comparisons.\n",
    "\n",
    "## Output\n",
    "\n",
    "* `data-create_networks/mouse_multiLayerNetwork/nodeTable.tsv`: node table of the multi-layer network.\n",
    "* `data-create_networks/mouse_multiLayerNetwork/intraLayerEdgeTable.tsv`: intra-layer edge table of the multi-layer network.\n",
    "* `data-create_networks/mouse_multiLayerNetwork/interLayerEdgeTable.tsv`: inter-layer edge table of the multi-layer network."
   ]
  },
  {
   "cell_type": "code",
   "execution_count": 1,
   "metadata": {},
   "outputs": [],
   "source": [
    "import pandas as pd\n",
    "import numpy as np\n",
    "import glob"
   ]
  },
  {
   "cell_type": "code",
   "execution_count": 2,
   "metadata": {},
   "outputs": [],
   "source": [
    "ppiTable_file = '../../../data-create_networks/hitpredit-03Aug2020/mouse_ppi.tsv'\n",
    "dea_folder = '../../../data-create_networks/mouse/comparisons/'\n",
    "nodeTable_file = '../../../data-create_networks/mouse_multiLayerNetwork/nodeTable.tsv'\n",
    "intraTable_file = '../../../data-create_networks/mouse_multiLayerNetwork/intraLayerEdgeTable.tsv'\n",
    "interTable_file = '../../../data-create_networks/mouse_multiLayerNetwork/interLayerEdgeTable.tsv'\n",
    "\n",
    "fdrCutoff = 0.05"
   ]
  },
  {
   "cell_type": "markdown",
   "metadata": {},
   "source": [
    "## Import data"
   ]
  },
  {
   "cell_type": "code",
   "execution_count": 3,
   "metadata": {},
   "outputs": [],
   "source": [
    "ppi = pd.read_csv( ppiTable_file, sep='\\t' )"
   ]
  },
  {
   "cell_type": "markdown",
   "metadata": {},
   "source": [
    "## Build the interactome"
   ]
  },
  {
   "cell_type": "code",
   "execution_count": 4,
   "metadata": {},
   "outputs": [
    {
     "data": {
      "text/html": [
       "<div>\n",
       "<style scoped>\n",
       "    .dataframe tbody tr th:only-of-type {\n",
       "        vertical-align: middle;\n",
       "    }\n",
       "\n",
       "    .dataframe tbody tr th {\n",
       "        vertical-align: top;\n",
       "    }\n",
       "\n",
       "    .dataframe thead th {\n",
       "        text-align: right;\n",
       "    }\n",
       "</style>\n",
       "<table border=\"1\" class=\"dataframe\">\n",
       "  <thead>\n",
       "    <tr style=\"text-align: right;\">\n",
       "      <th>edge type</th>\n",
       "      <th>PPI</th>\n",
       "      <th>Total</th>\n",
       "    </tr>\n",
       "  </thead>\n",
       "  <tbody>\n",
       "    <tr>\n",
       "      <th>interactions</th>\n",
       "      <td>33565</td>\n",
       "      <td>33565</td>\n",
       "    </tr>\n",
       "  </tbody>\n",
       "</table>\n",
       "</div>"
      ],
      "text/plain": [
       "edge type       PPI  Total\n",
       "interactions  33565  33565"
      ]
     },
     "execution_count": 4,
     "metadata": {},
     "output_type": "execute_result"
    }
   ],
   "source": [
    "interactome = ppi.copy()\n",
    "interactome['edge type'] = 'PPI'\n",
    "\n",
    "interactome['source'] = interactome['source'].str.capitalize()\n",
    "interactome['target'] = interactome['target'].str.capitalize()\n",
    "\n",
    "x = interactome.groupby('edge type').count()[['source']].rename({'source': 'interactions'}, axis=1).T\n",
    "x['Total'] = x.sum(axis=1)\n",
    "x"
   ]
  },
  {
   "cell_type": "markdown",
   "metadata": {},
   "source": [
    "## Build the node table\n",
    "\n",
    "Compute node weights for each layer from the results of the differential expression analysis."
   ]
  },
  {
   "cell_type": "code",
   "execution_count": 5,
   "metadata": {},
   "outputs": [
    {
     "name": "stdout",
     "output_type": "stream",
     "text": [
      "interactome nodes: 9509\n",
      "genes from the RNA-seq: 17328\n",
      "genes with RNA-seq values and within the interactome: 3994\n",
      "edges filtered out: 26269\n"
     ]
    },
    {
     "data": {
      "text/html": [
       "<div>\n",
       "<style scoped>\n",
       "    .dataframe tbody tr th:only-of-type {\n",
       "        vertical-align: middle;\n",
       "    }\n",
       "\n",
       "    .dataframe tbody tr th {\n",
       "        vertical-align: top;\n",
       "    }\n",
       "\n",
       "    .dataframe thead th {\n",
       "        text-align: right;\n",
       "    }\n",
       "</style>\n",
       "<table border=\"1\" class=\"dataframe\">\n",
       "  <thead>\n",
       "    <tr style=\"text-align: right;\">\n",
       "      <th>edge type</th>\n",
       "      <th>PPI</th>\n",
       "      <th>Total</th>\n",
       "    </tr>\n",
       "  </thead>\n",
       "  <tbody>\n",
       "    <tr>\n",
       "      <th>interactions</th>\n",
       "      <td>7296</td>\n",
       "      <td>7296</td>\n",
       "    </tr>\n",
       "  </tbody>\n",
       "</table>\n",
       "</div>"
      ],
      "text/plain": [
       "edge type      PPI  Total\n",
       "interactions  7296   7296"
      ]
     },
     "execution_count": 5,
     "metadata": {},
     "output_type": "execute_result"
    }
   ],
   "source": [
    "nodes = set(interactome['source']) | set(interactome['target'])\n",
    "print('interactome nodes:', len(nodes))\n",
    "\n",
    "# get DEA results\n",
    "comparisons, names = [], []\n",
    "for file in sorted( glob.glob(dea_folder + '*') ):\n",
    "    data = pd.read_csv(file, sep='\\t', index_col=0)\n",
    "    name = file.split('/')[-1].split('.')[0].split('_')[-1]\n",
    "    comparisons.append( data[['logFC', 'FDR']] )\n",
    "    names.append( name )\n",
    "comparisons = pd.concat( comparisons, axis=1, keys=names, names=['comparison','value'] )\n",
    "comparisons = comparisons.drop(['Day3vs1', 'Day30vs3'], axis=1)\n",
    "\n",
    "print('genes from the RNA-seq:', len(comparisons))\n",
    "\n",
    "# keep the genes with RNA-seq values and which are within the interactome\n",
    "genesToKeep = set(comparisons.index) & nodes\n",
    "comparisons = comparisons.loc[ genesToKeep , : ]\n",
    "intraLayerEdgeTable = interactome[ interactome['source'].isin(genesToKeep)\n",
    "                                   & interactome['target'].isin(genesToKeep)\n",
    "                                 ].reset_index(drop=True)\n",
    "\n",
    "print('genes with RNA-seq values and within the interactome:', len(genesToKeep))\n",
    "\n",
    "print('edges filtered out:', len(interactome) - len(intraLayerEdgeTable))\n",
    "    \n",
    "x = intraLayerEdgeTable.groupby('edge type').count()[['source']\n",
    "                      ].rename({'source': 'interactions'}, axis=1).T\n",
    "x['Total'] = x.sum(axis=1)\n",
    "x"
   ]
  },
  {
   "cell_type": "code",
   "execution_count": 6,
   "metadata": {},
   "outputs": [
    {
     "name": "stdout",
     "output_type": "stream",
     "text": [
      "meaning of layer IDs:\n",
      "1 \t Day1vs0\n",
      "2 \t Day3vs0\n",
      "3 \t Day30vs0\n"
     ]
    }
   ],
   "source": [
    "print('meaning of layer IDs:')\n",
    "for i, c in enumerate( comparisons.columns.get_level_values(0).unique() ): print(i+1, '\\t', c)"
   ]
  },
  {
   "cell_type": "code",
   "execution_count": 7,
   "metadata": {},
   "outputs": [],
   "source": [
    "# get values\n",
    "lfc = comparisons.xs( 'logFC', level='value', axis=1 )\n",
    "fdr = comparisons.xs( 'FDR', level='value', axis=1 )\n",
    "fdr = fdr.replace( 0, fdr[ fdr > 0 ].min() ) # remove null FDR\n",
    "\n",
    "# compute the score\n",
    "dysregWeight = ( np.abs( lfc ) * -np.log10( fdr ) )\n",
    "\n",
    "# normalize between 0.001 and 1, according to anatapp needs\n",
    "dysregWeight = ( 1 - 0.001 ) * ( dysregWeight / dysregWeight.max() ).fillna(0) + 0.001\n",
    "dysregWeight.columns = [ 'Weight_' + str(i) for i in range(1, len(dysregWeight.columns) + 1) ]"
   ]
  },
  {
   "cell_type": "code",
   "execution_count": 9,
   "metadata": {},
   "outputs": [
    {
     "data": {
      "text/html": [
       "<div>\n",
       "<style scoped>\n",
       "    .dataframe tbody tr th:only-of-type {\n",
       "        vertical-align: middle;\n",
       "    }\n",
       "\n",
       "    .dataframe tbody tr th {\n",
       "        vertical-align: top;\n",
       "    }\n",
       "\n",
       "    .dataframe thead th {\n",
       "        text-align: right;\n",
       "    }\n",
       "</style>\n",
       "<table border=\"1\" class=\"dataframe\">\n",
       "  <thead>\n",
       "    <tr style=\"text-align: right;\">\n",
       "      <th></th>\n",
       "      <th># query nodes</th>\n",
       "    </tr>\n",
       "  </thead>\n",
       "  <tbody>\n",
       "    <tr>\n",
       "      <th>layer 1</th>\n",
       "      <td>24</td>\n",
       "    </tr>\n",
       "    <tr>\n",
       "      <th>layer 2</th>\n",
       "      <td>14</td>\n",
       "    </tr>\n",
       "    <tr>\n",
       "      <th>layer 3</th>\n",
       "      <td>2</td>\n",
       "    </tr>\n",
       "  </tbody>\n",
       "</table>\n",
       "</div>"
      ],
      "text/plain": [
       "         # query nodes\n",
       "layer 1             24\n",
       "layer 2             14\n",
       "layer 3              2"
      ]
     },
     "execution_count": 9,
     "metadata": {},
     "output_type": "execute_result"
    }
   ],
   "source": [
    "# get queries per layer\n",
    "queries = ( fdr <= fdrCutoff )\n",
    "queries.columns = [ 'Query_' + str(i) for i in range(1, len(queries.columns) + 1) ]\n",
    "\n",
    "pd.DataFrame(\n",
    "    [ [ queries[c].sum() ]\n",
    "      for c in queries.columns ],\n",
    "    index = [f'layer {str(i+1)}' for i in range(len(queries.columns))],\n",
    "    columns = [ '# query nodes' ]\n",
    ")"
   ]
  },
  {
   "cell_type": "code",
   "execution_count": 9,
   "metadata": {},
   "outputs": [
    {
     "name": "stdout",
     "output_type": "stream",
     "text": [
      "query1: Bst2, Ddx58, Dtx3l, Herc6, Ifih1, Ifit1, Ifit3, Iigp1, Irf7, Irgm1, Isg15, Ly6a, Ly6e, Myh1, Oasl2, Parp9, Rsad2, Rtp4, Stat1, Tap1, Tap2, Tifa, Zbp1, Znfx1\n",
      "query2: Arrb1, Bdnf, Calca, Ccnd1, Etv5, Hif3a, Ifit1, Loxl4, Matn2, Myh1, Nptx1, Oasl2, Sgk1, Snta1\n",
      "query3: Apoe, Ncam2\n"
     ]
    }
   ],
   "source": [
    "print( 'query1:', ', '.join( queries[queries['Query_1']].index.sort_values() ) )\n",
    "print( 'query2:', ', '.join( queries[queries['Query_2']].index.sort_values() ) )\n",
    "print( 'query3:', ', '.join( queries[queries['Query_3']].index.sort_values() ) )"
   ]
  },
  {
   "cell_type": "code",
   "execution_count": 10,
   "metadata": {},
   "outputs": [],
   "source": [
    "# build table\n",
    "nodeTable = dysregWeight.reset_index().rename_axis(\"\",axis=1).rename({'index': 'Node'}, axis=1)\n",
    "\n",
    "# add query columns\n",
    "nodeTable = pd.merge( nodeTable, queries, left_on='Node', right_index=True, how='left' ).fillna(False)"
   ]
  },
  {
   "cell_type": "markdown",
   "metadata": {},
   "source": [
    "## Build the inter-layer edge table"
   ]
  },
  {
   "cell_type": "code",
   "execution_count": 11,
   "metadata": {},
   "outputs": [],
   "source": [
    "interLayerEdgeTable = []\n",
    "\n",
    "# compute the inter-layer edge weights\n",
    "cols = dysregWeight.columns\n",
    "for i in range(1, len(cols)):\n",
    "    wDys1 = dysregWeight[ cols[i-1] ]\n",
    "    wDys2 = dysregWeight[ cols[i] ]\n",
    "    interLayerEdgeTable.append( ( wDys1 + wDys2 ) / ( 1 + wDys1 + wDys2 ) )\n",
    "    \n",
    "# build the table\n",
    "interLayerEdgeTable = pd.concat( interLayerEdgeTable, axis=1 )\n",
    "colNames = [ f'Weight_{i}>{i+1}' for i in range(1, len(cols)) ]\n",
    "interLayerEdgeTable.columns = colNames\n",
    "interLayerEdgeTable = interLayerEdgeTable.reset_index().rename({'index': 'source'}, axis=1)\n",
    "interLayerEdgeTable['target'] = interLayerEdgeTable['source']\n",
    "interLayerEdgeTable = interLayerEdgeTable[['source', 'target'] + colNames]"
   ]
  },
  {
   "cell_type": "markdown",
   "metadata": {},
   "source": [
    "## Export"
   ]
  },
  {
   "cell_type": "code",
   "execution_count": 12,
   "metadata": {},
   "outputs": [],
   "source": [
    "# export\n",
    "nodeTable.to_csv( nodeTable_file, sep='\\t', index=False )\n",
    "intraLayerEdgeTable.to_csv( intraTable_file, sep='\\t', index=False )\n",
    "interLayerEdgeTable.to_csv( interTable_file, sep='\\t', index=False )"
   ]
  }
 ],
 "metadata": {
  "kernelspec": {
   "display_name": "Python [conda env:python_env]",
   "language": "python",
   "name": "conda-env-python_env-py"
  },
  "language_info": {
   "codemirror_mode": {
    "name": "ipython",
    "version": 3
   },
   "file_extension": ".py",
   "mimetype": "text/x-python",
   "name": "python",
   "nbconvert_exporter": "python",
   "pygments_lexer": "ipython3",
   "version": "3.8.1"
  }
 },
 "nbformat": 4,
 "nbformat_minor": 4
}
